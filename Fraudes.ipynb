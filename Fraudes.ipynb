{
 "cells": [
  {
   "cell_type": "markdown",
   "id": "72c1afbb",
   "metadata": {},
   "source": [
    "# Problema de negócio"
   ]
  },
  {
   "cell_type": "markdown",
   "id": "172186a7",
   "metadata": {},
   "source": [
    "A base de dados desta análise provem do kaggle: https://www.kaggle.com/datasets/mlg-ulb/creditcardfraud. Este conjunto de dados contém transações feitas por cartões de crédito em setembro de 2013 por titulares de cartões europeus.\n",
    "Este conjunto de dados apresenta transações ocorridas em dois dias, onde temos 492 fraudes em 284.807 transações. O conjunto de dados é altamente desbalanceado, a classe positiva (fraudes) responde por 0,172% de todas as transações.\n",
    "\n",
    "Ele contém apenas variáveis de entrada numéricas que é o resultado de uma transformação pelo método análise de componentes principais (PCA). Assim as variáveis são apresentadas como: V1, V2, … V28 , as únicas variáveis que não foram transformadas com PCA são 'Time' e 'Amount'. característica 'Classe' é a variável de resposta e assume valor 1 em caso de fraude e 0 caso contrário.  \n",
    "O objetivo é analisar os dados e desenvolver um modelo de machine learning capaz de prever transações fraudulentas com alta precisão, minimizando o número de falsos positivos para garantir a detecção efetiva de fraudes e assim, reduzir perdas financeiras."
   ]
  },
  {
   "cell_type": "markdown",
   "id": "eb5e6361",
   "metadata": {},
   "source": [
    "# Importando bibliotecas"
   ]
  },
  {
   "cell_type": "code",
   "execution_count": 1,
   "id": "44d1c171",
   "metadata": {},
   "outputs": [],
   "source": [
    "# bibliotecas para análise\n",
    "import pandas as pd\n",
    "\n",
    "# bibliotecas para visualização\n",
    "import seaborn as sns\n",
    "import matplotlib.pyplot as plt\n",
    "import plotly.express as px\n",
    "\n",
    "# preprocessamento dos dados\n",
    "from sklearn.model_selection import train_test_split\n",
    "from sklearn.preprocessing import StandardScaler\n",
    "\n",
    "# balanceamento dos dados\n",
    "from imblearn.under_sampling import RandomUnderSampler, NearMiss\n",
    "from imblearn.over_sampling import RandomOverSampler, SMOTE\n",
    "\n",
    "# algoritmos de machine learning\n",
    "from sklearn.linear_model import LogisticRegression\n",
    "from sklearn.ensemble import RandomForestClassifier, AdaBoostClassifier\n",
    "\n",
    "from sklearn.tree import DecisionTreeClassifier\n",
    "\n",
    "# métricas\n",
    "from sklearn.metrics import precision_recall_curve\n",
    "from sklearn.metrics import auc, roc_auc_score, roc_curve"
   ]
  },
  {
   "cell_type": "markdown",
   "id": "fc174e80",
   "metadata": {},
   "source": [
    "# Carregando os dados"
   ]
  },
  {
   "cell_type": "code",
   "execution_count": 71,
   "id": "746ae8c8",
   "metadata": {},
   "outputs": [],
   "source": [
    "df = pd.read_csv('./Data/creditcard.csv')"
   ]
  },
  {
   "cell_type": "code",
   "execution_count": null,
   "id": "9dbc0332",
   "metadata": {},
   "outputs": [],
   "source": [
    "df.head(5)"
   ]
  },
  {
   "cell_type": "markdown",
   "id": "fa6339a2",
   "metadata": {},
   "source": [
    "# Análise exploratória"
   ]
  },
  {
   "cell_type": "code",
   "execution_count": 72,
   "id": "885f4257",
   "metadata": {},
   "outputs": [
    {
     "name": "stdout",
     "output_type": "stream",
     "text": [
      "<class 'pandas.core.frame.DataFrame'>\n",
      "RangeIndex: 284807 entries, 0 to 284806\n",
      "Data columns (total 31 columns):\n",
      " #   Column  Non-Null Count   Dtype  \n",
      "---  ------  --------------   -----  \n",
      " 0   Time    284807 non-null  float64\n",
      " 1   V1      284807 non-null  float64\n",
      " 2   V2      284807 non-null  float64\n",
      " 3   V3      284807 non-null  float64\n",
      " 4   V4      284807 non-null  float64\n",
      " 5   V5      284807 non-null  float64\n",
      " 6   V6      284807 non-null  float64\n",
      " 7   V7      284807 non-null  float64\n",
      " 8   V8      284807 non-null  float64\n",
      " 9   V9      284807 non-null  float64\n",
      " 10  V10     284807 non-null  float64\n",
      " 11  V11     284807 non-null  float64\n",
      " 12  V12     284807 non-null  float64\n",
      " 13  V13     284807 non-null  float64\n",
      " 14  V14     284807 non-null  float64\n",
      " 15  V15     284807 non-null  float64\n",
      " 16  V16     284807 non-null  float64\n",
      " 17  V17     284807 non-null  float64\n",
      " 18  V18     284807 non-null  float64\n",
      " 19  V19     284807 non-null  float64\n",
      " 20  V20     284807 non-null  float64\n",
      " 21  V21     284807 non-null  float64\n",
      " 22  V22     284807 non-null  float64\n",
      " 23  V23     284807 non-null  float64\n",
      " 24  V24     284807 non-null  float64\n",
      " 25  V25     284807 non-null  float64\n",
      " 26  V26     284807 non-null  float64\n",
      " 27  V27     284807 non-null  float64\n",
      " 28  V28     284807 non-null  float64\n",
      " 29  Amount  284807 non-null  float64\n",
      " 30  Class   284807 non-null  int64  \n",
      "dtypes: float64(30), int64(1)\n",
      "memory usage: 67.4 MB\n"
     ]
    }
   ],
   "source": [
    "df.info()"
   ]
  },
  {
   "cell_type": "markdown",
   "id": "cd75cf54",
   "metadata": {},
   "source": [
    "Não há dados ausentes e todas as variáveis (exceto variável resposta como inteiro) estão adequadamente como numéricas contínuas"
   ]
  },
  {
   "cell_type": "code",
   "execution_count": 73,
   "id": "52adaab9",
   "metadata": {},
   "outputs": [
    {
     "data": {
      "text/html": [
       "<div>\n",
       "<style scoped>\n",
       "    .dataframe tbody tr th:only-of-type {\n",
       "        vertical-align: middle;\n",
       "    }\n",
       "\n",
       "    .dataframe tbody tr th {\n",
       "        vertical-align: top;\n",
       "    }\n",
       "\n",
       "    .dataframe thead th {\n",
       "        text-align: right;\n",
       "    }\n",
       "</style>\n",
       "<table border=\"1\" class=\"dataframe\">\n",
       "  <thead>\n",
       "    <tr style=\"text-align: right;\">\n",
       "      <th></th>\n",
       "      <th>Time</th>\n",
       "      <th>V1</th>\n",
       "      <th>V2</th>\n",
       "      <th>V3</th>\n",
       "      <th>V4</th>\n",
       "      <th>V5</th>\n",
       "      <th>V6</th>\n",
       "      <th>V7</th>\n",
       "      <th>V8</th>\n",
       "      <th>V9</th>\n",
       "      <th>...</th>\n",
       "      <th>V21</th>\n",
       "      <th>V22</th>\n",
       "      <th>V23</th>\n",
       "      <th>V24</th>\n",
       "      <th>V25</th>\n",
       "      <th>V26</th>\n",
       "      <th>V27</th>\n",
       "      <th>V28</th>\n",
       "      <th>Amount</th>\n",
       "      <th>Class</th>\n",
       "    </tr>\n",
       "  </thead>\n",
       "  <tbody>\n",
       "    <tr>\n",
       "      <th>count</th>\n",
       "      <td>284807.000000</td>\n",
       "      <td>2.848070e+05</td>\n",
       "      <td>2.848070e+05</td>\n",
       "      <td>2.848070e+05</td>\n",
       "      <td>2.848070e+05</td>\n",
       "      <td>2.848070e+05</td>\n",
       "      <td>2.848070e+05</td>\n",
       "      <td>2.848070e+05</td>\n",
       "      <td>2.848070e+05</td>\n",
       "      <td>2.848070e+05</td>\n",
       "      <td>...</td>\n",
       "      <td>2.848070e+05</td>\n",
       "      <td>2.848070e+05</td>\n",
       "      <td>2.848070e+05</td>\n",
       "      <td>2.848070e+05</td>\n",
       "      <td>2.848070e+05</td>\n",
       "      <td>2.848070e+05</td>\n",
       "      <td>2.848070e+05</td>\n",
       "      <td>2.848070e+05</td>\n",
       "      <td>284807.000000</td>\n",
       "      <td>284807.000000</td>\n",
       "    </tr>\n",
       "    <tr>\n",
       "      <th>mean</th>\n",
       "      <td>94813.859575</td>\n",
       "      <td>3.918649e-15</td>\n",
       "      <td>5.682686e-16</td>\n",
       "      <td>-8.761736e-15</td>\n",
       "      <td>2.811118e-15</td>\n",
       "      <td>-1.552103e-15</td>\n",
       "      <td>2.040130e-15</td>\n",
       "      <td>-1.698953e-15</td>\n",
       "      <td>-1.893285e-16</td>\n",
       "      <td>-3.147640e-15</td>\n",
       "      <td>...</td>\n",
       "      <td>1.473120e-16</td>\n",
       "      <td>8.042109e-16</td>\n",
       "      <td>5.282512e-16</td>\n",
       "      <td>4.456271e-15</td>\n",
       "      <td>1.426896e-15</td>\n",
       "      <td>1.701640e-15</td>\n",
       "      <td>-3.662252e-16</td>\n",
       "      <td>-1.217809e-16</td>\n",
       "      <td>88.349619</td>\n",
       "      <td>0.001727</td>\n",
       "    </tr>\n",
       "    <tr>\n",
       "      <th>std</th>\n",
       "      <td>47488.145955</td>\n",
       "      <td>1.958696e+00</td>\n",
       "      <td>1.651309e+00</td>\n",
       "      <td>1.516255e+00</td>\n",
       "      <td>1.415869e+00</td>\n",
       "      <td>1.380247e+00</td>\n",
       "      <td>1.332271e+00</td>\n",
       "      <td>1.237094e+00</td>\n",
       "      <td>1.194353e+00</td>\n",
       "      <td>1.098632e+00</td>\n",
       "      <td>...</td>\n",
       "      <td>7.345240e-01</td>\n",
       "      <td>7.257016e-01</td>\n",
       "      <td>6.244603e-01</td>\n",
       "      <td>6.056471e-01</td>\n",
       "      <td>5.212781e-01</td>\n",
       "      <td>4.822270e-01</td>\n",
       "      <td>4.036325e-01</td>\n",
       "      <td>3.300833e-01</td>\n",
       "      <td>250.120109</td>\n",
       "      <td>0.041527</td>\n",
       "    </tr>\n",
       "    <tr>\n",
       "      <th>min</th>\n",
       "      <td>0.000000</td>\n",
       "      <td>-5.640751e+01</td>\n",
       "      <td>-7.271573e+01</td>\n",
       "      <td>-4.832559e+01</td>\n",
       "      <td>-5.683171e+00</td>\n",
       "      <td>-1.137433e+02</td>\n",
       "      <td>-2.616051e+01</td>\n",
       "      <td>-4.355724e+01</td>\n",
       "      <td>-7.321672e+01</td>\n",
       "      <td>-1.343407e+01</td>\n",
       "      <td>...</td>\n",
       "      <td>-3.483038e+01</td>\n",
       "      <td>-1.093314e+01</td>\n",
       "      <td>-4.480774e+01</td>\n",
       "      <td>-2.836627e+00</td>\n",
       "      <td>-1.029540e+01</td>\n",
       "      <td>-2.604551e+00</td>\n",
       "      <td>-2.256568e+01</td>\n",
       "      <td>-1.543008e+01</td>\n",
       "      <td>0.000000</td>\n",
       "      <td>0.000000</td>\n",
       "    </tr>\n",
       "    <tr>\n",
       "      <th>25%</th>\n",
       "      <td>54201.500000</td>\n",
       "      <td>-9.203734e-01</td>\n",
       "      <td>-5.985499e-01</td>\n",
       "      <td>-8.903648e-01</td>\n",
       "      <td>-8.486401e-01</td>\n",
       "      <td>-6.915971e-01</td>\n",
       "      <td>-7.682956e-01</td>\n",
       "      <td>-5.540759e-01</td>\n",
       "      <td>-2.086297e-01</td>\n",
       "      <td>-6.430976e-01</td>\n",
       "      <td>...</td>\n",
       "      <td>-2.283949e-01</td>\n",
       "      <td>-5.423504e-01</td>\n",
       "      <td>-1.618463e-01</td>\n",
       "      <td>-3.545861e-01</td>\n",
       "      <td>-3.171451e-01</td>\n",
       "      <td>-3.269839e-01</td>\n",
       "      <td>-7.083953e-02</td>\n",
       "      <td>-5.295979e-02</td>\n",
       "      <td>5.600000</td>\n",
       "      <td>0.000000</td>\n",
       "    </tr>\n",
       "    <tr>\n",
       "      <th>50%</th>\n",
       "      <td>84692.000000</td>\n",
       "      <td>1.810880e-02</td>\n",
       "      <td>6.548556e-02</td>\n",
       "      <td>1.798463e-01</td>\n",
       "      <td>-1.984653e-02</td>\n",
       "      <td>-5.433583e-02</td>\n",
       "      <td>-2.741871e-01</td>\n",
       "      <td>4.010308e-02</td>\n",
       "      <td>2.235804e-02</td>\n",
       "      <td>-5.142873e-02</td>\n",
       "      <td>...</td>\n",
       "      <td>-2.945017e-02</td>\n",
       "      <td>6.781943e-03</td>\n",
       "      <td>-1.119293e-02</td>\n",
       "      <td>4.097606e-02</td>\n",
       "      <td>1.659350e-02</td>\n",
       "      <td>-5.213911e-02</td>\n",
       "      <td>1.342146e-03</td>\n",
       "      <td>1.124383e-02</td>\n",
       "      <td>22.000000</td>\n",
       "      <td>0.000000</td>\n",
       "    </tr>\n",
       "    <tr>\n",
       "      <th>75%</th>\n",
       "      <td>139320.500000</td>\n",
       "      <td>1.315642e+00</td>\n",
       "      <td>8.037239e-01</td>\n",
       "      <td>1.027196e+00</td>\n",
       "      <td>7.433413e-01</td>\n",
       "      <td>6.119264e-01</td>\n",
       "      <td>3.985649e-01</td>\n",
       "      <td>5.704361e-01</td>\n",
       "      <td>3.273459e-01</td>\n",
       "      <td>5.971390e-01</td>\n",
       "      <td>...</td>\n",
       "      <td>1.863772e-01</td>\n",
       "      <td>5.285536e-01</td>\n",
       "      <td>1.476421e-01</td>\n",
       "      <td>4.395266e-01</td>\n",
       "      <td>3.507156e-01</td>\n",
       "      <td>2.409522e-01</td>\n",
       "      <td>9.104512e-02</td>\n",
       "      <td>7.827995e-02</td>\n",
       "      <td>77.165000</td>\n",
       "      <td>0.000000</td>\n",
       "    </tr>\n",
       "    <tr>\n",
       "      <th>max</th>\n",
       "      <td>172792.000000</td>\n",
       "      <td>2.454930e+00</td>\n",
       "      <td>2.205773e+01</td>\n",
       "      <td>9.382558e+00</td>\n",
       "      <td>1.687534e+01</td>\n",
       "      <td>3.480167e+01</td>\n",
       "      <td>7.330163e+01</td>\n",
       "      <td>1.205895e+02</td>\n",
       "      <td>2.000721e+01</td>\n",
       "      <td>1.559499e+01</td>\n",
       "      <td>...</td>\n",
       "      <td>2.720284e+01</td>\n",
       "      <td>1.050309e+01</td>\n",
       "      <td>2.252841e+01</td>\n",
       "      <td>4.584549e+00</td>\n",
       "      <td>7.519589e+00</td>\n",
       "      <td>3.517346e+00</td>\n",
       "      <td>3.161220e+01</td>\n",
       "      <td>3.384781e+01</td>\n",
       "      <td>25691.160000</td>\n",
       "      <td>1.000000</td>\n",
       "    </tr>\n",
       "  </tbody>\n",
       "</table>\n",
       "<p>8 rows × 31 columns</p>\n",
       "</div>"
      ],
      "text/plain": [
       "                Time            V1            V2            V3            V4  \\\n",
       "count  284807.000000  2.848070e+05  2.848070e+05  2.848070e+05  2.848070e+05   \n",
       "mean    94813.859575  3.918649e-15  5.682686e-16 -8.761736e-15  2.811118e-15   \n",
       "std     47488.145955  1.958696e+00  1.651309e+00  1.516255e+00  1.415869e+00   \n",
       "min         0.000000 -5.640751e+01 -7.271573e+01 -4.832559e+01 -5.683171e+00   \n",
       "25%     54201.500000 -9.203734e-01 -5.985499e-01 -8.903648e-01 -8.486401e-01   \n",
       "50%     84692.000000  1.810880e-02  6.548556e-02  1.798463e-01 -1.984653e-02   \n",
       "75%    139320.500000  1.315642e+00  8.037239e-01  1.027196e+00  7.433413e-01   \n",
       "max    172792.000000  2.454930e+00  2.205773e+01  9.382558e+00  1.687534e+01   \n",
       "\n",
       "                 V5            V6            V7            V8            V9  \\\n",
       "count  2.848070e+05  2.848070e+05  2.848070e+05  2.848070e+05  2.848070e+05   \n",
       "mean  -1.552103e-15  2.040130e-15 -1.698953e-15 -1.893285e-16 -3.147640e-15   \n",
       "std    1.380247e+00  1.332271e+00  1.237094e+00  1.194353e+00  1.098632e+00   \n",
       "min   -1.137433e+02 -2.616051e+01 -4.355724e+01 -7.321672e+01 -1.343407e+01   \n",
       "25%   -6.915971e-01 -7.682956e-01 -5.540759e-01 -2.086297e-01 -6.430976e-01   \n",
       "50%   -5.433583e-02 -2.741871e-01  4.010308e-02  2.235804e-02 -5.142873e-02   \n",
       "75%    6.119264e-01  3.985649e-01  5.704361e-01  3.273459e-01  5.971390e-01   \n",
       "max    3.480167e+01  7.330163e+01  1.205895e+02  2.000721e+01  1.559499e+01   \n",
       "\n",
       "       ...           V21           V22           V23           V24  \\\n",
       "count  ...  2.848070e+05  2.848070e+05  2.848070e+05  2.848070e+05   \n",
       "mean   ...  1.473120e-16  8.042109e-16  5.282512e-16  4.456271e-15   \n",
       "std    ...  7.345240e-01  7.257016e-01  6.244603e-01  6.056471e-01   \n",
       "min    ... -3.483038e+01 -1.093314e+01 -4.480774e+01 -2.836627e+00   \n",
       "25%    ... -2.283949e-01 -5.423504e-01 -1.618463e-01 -3.545861e-01   \n",
       "50%    ... -2.945017e-02  6.781943e-03 -1.119293e-02  4.097606e-02   \n",
       "75%    ...  1.863772e-01  5.285536e-01  1.476421e-01  4.395266e-01   \n",
       "max    ...  2.720284e+01  1.050309e+01  2.252841e+01  4.584549e+00   \n",
       "\n",
       "                V25           V26           V27           V28         Amount  \\\n",
       "count  2.848070e+05  2.848070e+05  2.848070e+05  2.848070e+05  284807.000000   \n",
       "mean   1.426896e-15  1.701640e-15 -3.662252e-16 -1.217809e-16      88.349619   \n",
       "std    5.212781e-01  4.822270e-01  4.036325e-01  3.300833e-01     250.120109   \n",
       "min   -1.029540e+01 -2.604551e+00 -2.256568e+01 -1.543008e+01       0.000000   \n",
       "25%   -3.171451e-01 -3.269839e-01 -7.083953e-02 -5.295979e-02       5.600000   \n",
       "50%    1.659350e-02 -5.213911e-02  1.342146e-03  1.124383e-02      22.000000   \n",
       "75%    3.507156e-01  2.409522e-01  9.104512e-02  7.827995e-02      77.165000   \n",
       "max    7.519589e+00  3.517346e+00  3.161220e+01  3.384781e+01   25691.160000   \n",
       "\n",
       "               Class  \n",
       "count  284807.000000  \n",
       "mean        0.001727  \n",
       "std         0.041527  \n",
       "min         0.000000  \n",
       "25%         0.000000  \n",
       "50%         0.000000  \n",
       "75%         0.000000  \n",
       "max         1.000000  \n",
       "\n",
       "[8 rows x 31 columns]"
      ]
     },
     "execution_count": 73,
     "metadata": {},
     "output_type": "execute_result"
    }
   ],
   "source": [
    "df.describe()"
   ]
  },
  {
   "cell_type": "markdown",
   "id": "a56c071d",
   "metadata": {},
   "source": [
    "Não se nota uma discrepancia visivel nas variaveis transformadas pelo PCA. Se observando 'Amount', que é o valor da transação, nota-se uma mediana menor que a média, esta última afetada pelos altos valores do último quartil, influenciand também no desvio padrão, mas a maioria dos valores são quantias baixas."
   ]
  },
  {
   "cell_type": "markdown",
   "id": "7b706f1a",
   "metadata": {},
   "source": [
    "## Class"
   ]
  },
  {
   "cell_type": "code",
   "execution_count": 74,
   "id": "5368149a",
   "metadata": {},
   "outputs": [
    {
     "name": "stdout",
     "output_type": "stream",
     "text": [
      "0    284315\n",
      "1       492\n",
      "Name: Class, dtype: int64\n"
     ]
    },
    {
     "data": {
      "image/png": "[encoded data removed]",
      "text/plain": [
       "<Figure size 640x480 with 1 Axes>"
      ]
     },
     "metadata": {},
     "output_type": "display_data"
    }
   ],
   "source": [
    "print(df['Class'].value_counts())\n",
    "df['Class'].value_counts().plot.bar();"
   ]
  },
  {
   "cell_type": "code",
   "execution_count": null,
   "id": "6415cf13",
   "metadata": {},
   "outputs": [],
   "source": [
    "perc_fraud = df[df['Class']== 1].shape[0]/df['Class'].shape[0]\n",
    "print(f'{round(perc_fraud*100,4)}%')"
   ]
  },
  {
   "cell_type": "markdown",
   "id": "5e8915cd",
   "metadata": {},
   "source": [
    "Conforme o enunciado os dados de 'Class' são bem desbalanceados, vamos realizar um balanceamento dos dados para que o modelo não fique enviesado e não tenha capacidade de predizer as fraudes. As fraudes ocorreram em 0,17% das transações"
   ]
  },
  {
   "cell_type": "markdown",
   "id": "116e359e",
   "metadata": {},
   "source": [
    "## Time"
   ]
  },
  {
   "cell_type": "code",
   "execution_count": 8,
   "id": "9253bd79",
   "metadata": {},
   "outputs": [
    {
     "data": {
      "image/png": "[encoded data removed]",
      "text/plain": [
       "<Figure size 640x480 with 1 Axes>"
      ]
     },
     "metadata": {},
     "output_type": "display_data"
    }
   ],
   "source": [
    "sns.histplot(df['Time'], bins = 30);"
   ]
  },
  {
   "cell_type": "markdown",
   "id": "200a7300",
   "metadata": {},
   "source": [
    "Vemos duas regiões de pico, se parecendo com uma distribuição bimodal se não fosse a região em torno de 75000 segundos, esse formato não deve-se alterar quando se relacionar 'Time' com 'Class' sendo não fraude (0). "
   ]
  },
  {
   "cell_type": "code",
   "execution_count": 9,
   "id": "512bc0dc",
   "metadata": {},
   "outputs": [
    {
     "data": {
      "image/png": "[encoded data removed]",
      "text/plain": [
       "<Figure size 640x480 with 1 Axes>"
      ]
     },
     "metadata": {},
     "output_type": "display_data"
    }
   ],
   "source": [
    "sns.histplot(df[df['Class'] == 0]['Time'], bins = 30);"
   ]
  },
  {
   "cell_type": "code",
   "execution_count": null,
   "id": "b560d46d",
   "metadata": {},
   "outputs": [],
   "source": [
    "sns.histplot(df[df['Class'] == 1]['Time'], bins = 30);"
   ]
  },
  {
   "cell_type": "markdown",
   "id": "94742e5e",
   "metadata": {},
   "source": [
    "As fraudes acontecem com frequencia em torno da região de 40000, que é uma faixa também alta em não fraude, e também em torno de 90000 região de menor frequencia nos casos de não fraude."
   ]
  },
  {
   "cell_type": "code",
   "execution_count": 10,
   "id": "45fb6826",
   "metadata": {},
   "outputs": [
    {
     "data": {
      "image/png": "[encoded data removed]",
      "text/plain": [
       "<Figure size 900x500 with 1 Axes>"
      ]
     },
     "metadata": {},
     "output_type": "display_data"
    }
   ],
   "source": [
    "fig, ax = plt.subplots(figsize=(9, 5));\n",
    "plt.title('Tempo')\n",
    "sns.boxplot(data = df, x = 'Class', y = 'Time'); \n",
    "ax.set_xticklabels(['Normal', 'Fraude']);"
   ]
  },
  {
   "cell_type": "markdown",
   "id": "f337f3b4",
   "metadata": {},
   "source": [
    "Vemos no boxplot que a variável Time não se modifica muito sendo fraude ou não, as médias estão até proximas visualmente"
   ]
  },
  {
   "cell_type": "markdown",
   "id": "a4fb4cfe",
   "metadata": {},
   "source": [
    "## Amount"
   ]
  },
  {
   "cell_type": "code",
   "execution_count": 11,
   "id": "d4c1eb2e",
   "metadata": {},
   "outputs": [
    {
     "data": {
      "image/png": "[encoded data removed]",
      "text/plain": [
       "<Figure size 640x480 with 1 Axes>"
      ]
     },
     "metadata": {},
     "output_type": "display_data"
    }
   ],
   "source": [
    "sns.histplot(df['Amount'], bins = 50);"
   ]
  },
  {
   "cell_type": "code",
   "execution_count": null,
   "id": "de74bc35",
   "metadata": {},
   "outputs": [],
   "source": [
    "sns.histplot(df[df['Class'] == 0]['Amount'], bins = 10);"
   ]
  },
  {
   "cell_type": "code",
   "execution_count": 12,
   "id": "bee89430",
   "metadata": {},
   "outputs": [
    {
     "data": {
      "image/png": "[encoded data removed]",
      "text/plain": [
       "<Figure size 640x480 with 1 Axes>"
      ]
     },
     "metadata": {},
     "output_type": "display_data"
    }
   ],
   "source": [
    "sns.histplot(df[df['Class'] == 1]['Amount'], bins = 10);"
   ]
  },
  {
   "cell_type": "markdown",
   "id": "4824161f",
   "metadata": {},
   "source": [
    "Nesta variável podemos extrair informação mais relevante: nota-se que a maioria das transações ocorrem até cerca de 2500 mas as fraudes ocorrem em valores bem menores, com maior frequencia abaixo de 250."
   ]
  },
  {
   "cell_type": "code",
   "execution_count": 13,
   "id": "cb661ff8",
   "metadata": {},
   "outputs": [
    {
     "data": {
      "image/png": "[encoded data removed]",
      "text/plain": [
       "<Figure size 1500x600 with 2 Axes>"
      ]
     },
     "metadata": {},
     "output_type": "display_data"
    }
   ],
   "source": [
    "plt.subplots(figsize=(15,6))\n",
    "\n",
    "plt.subplot(121)\n",
    "plt.title('Fraude', fontsize= 15 );\n",
    "sns.scatterplot(x = df[df['Class'] == 1]['Time'], y = df[df['Class'] == 1]['Amount']);\n",
    "\n",
    "plt.subplot(122)\n",
    "plt.title('Normal', fontsize= 15 );\n",
    "sns.scatterplot(x = df[df['Class'] == 0]['Time'], y = df[df['Class'] == 0]['Amount'], s = 5);\n"
   ]
  },
  {
   "cell_type": "markdown",
   "id": "53b15d46",
   "metadata": {},
   "source": [
    "Nestes gráficos de dispersão confirmamos que a tendência de fraude são em maioria para os menores valores ('Amount')"
   ]
  },
  {
   "cell_type": "markdown",
   "id": "e32fe6df",
   "metadata": {},
   "source": [
    "# Feature Enginering"
   ]
  },
  {
   "cell_type": "markdown",
   "id": "22f9c938",
   "metadata": {},
   "source": [
    "Antes de de desenvolver o modelo preditivo vamos realizar uma transformação nas duas variáveis independentes analisadas, Time e Amount, certos algoritmos para convergirem melhor precisa que as variáveis estajam numa mesma escala. Vamos utilizar a padronização onde a média é 0 e o desvio padrão é 1, assim os outliers não são afetados."
   ]
  },
  {
   "cell_type": "code",
   "execution_count": 93,
   "id": "2c5d0029",
   "metadata": {},
   "outputs": [
    {
     "data": {
      "text/html": [
       "<div>\n",
       "<style scoped>\n",
       "    .dataframe tbody tr th:only-of-type {\n",
       "        vertical-align: middle;\n",
       "    }\n",
       "\n",
       "    .dataframe tbody tr th {\n",
       "        vertical-align: top;\n",
       "    }\n",
       "\n",
       "    .dataframe thead th {\n",
       "        text-align: right;\n",
       "    }\n",
       "</style>\n",
       "<table border=\"1\" class=\"dataframe\">\n",
       "  <thead>\n",
       "    <tr style=\"text-align: right;\">\n",
       "      <th></th>\n",
       "      <th>Time</th>\n",
       "      <th>V1</th>\n",
       "      <th>V2</th>\n",
       "      <th>V3</th>\n",
       "      <th>V4</th>\n",
       "      <th>V5</th>\n",
       "      <th>V6</th>\n",
       "      <th>V7</th>\n",
       "      <th>V8</th>\n",
       "      <th>V9</th>\n",
       "      <th>...</th>\n",
       "      <th>V21</th>\n",
       "      <th>V22</th>\n",
       "      <th>V23</th>\n",
       "      <th>V24</th>\n",
       "      <th>V25</th>\n",
       "      <th>V26</th>\n",
       "      <th>V27</th>\n",
       "      <th>V28</th>\n",
       "      <th>Amount</th>\n",
       "      <th>Class</th>\n",
       "    </tr>\n",
       "  </thead>\n",
       "  <tbody>\n",
       "    <tr>\n",
       "      <th>0</th>\n",
       "      <td>-1.996583</td>\n",
       "      <td>-1.359807</td>\n",
       "      <td>-0.072781</td>\n",
       "      <td>2.536347</td>\n",
       "      <td>1.378155</td>\n",
       "      <td>-0.338321</td>\n",
       "      <td>0.462388</td>\n",
       "      <td>0.239599</td>\n",
       "      <td>0.098698</td>\n",
       "      <td>0.363787</td>\n",
       "      <td>...</td>\n",
       "      <td>-0.018307</td>\n",
       "      <td>0.277838</td>\n",
       "      <td>-0.110474</td>\n",
       "      <td>0.066928</td>\n",
       "      <td>0.128539</td>\n",
       "      <td>-0.189115</td>\n",
       "      <td>0.133558</td>\n",
       "      <td>-0.021053</td>\n",
       "      <td>0.244964</td>\n",
       "      <td>0</td>\n",
       "    </tr>\n",
       "    <tr>\n",
       "      <th>1</th>\n",
       "      <td>-1.996583</td>\n",
       "      <td>1.191857</td>\n",
       "      <td>0.266151</td>\n",
       "      <td>0.166480</td>\n",
       "      <td>0.448154</td>\n",
       "      <td>0.060018</td>\n",
       "      <td>-0.082361</td>\n",
       "      <td>-0.078803</td>\n",
       "      <td>0.085102</td>\n",
       "      <td>-0.255425</td>\n",
       "      <td>...</td>\n",
       "      <td>-0.225775</td>\n",
       "      <td>-0.638672</td>\n",
       "      <td>0.101288</td>\n",
       "      <td>-0.339846</td>\n",
       "      <td>0.167170</td>\n",
       "      <td>0.125895</td>\n",
       "      <td>-0.008983</td>\n",
       "      <td>0.014724</td>\n",
       "      <td>-0.342475</td>\n",
       "      <td>0</td>\n",
       "    </tr>\n",
       "    <tr>\n",
       "      <th>2</th>\n",
       "      <td>-1.996562</td>\n",
       "      <td>-1.358354</td>\n",
       "      <td>-1.340163</td>\n",
       "      <td>1.773209</td>\n",
       "      <td>0.379780</td>\n",
       "      <td>-0.503198</td>\n",
       "      <td>1.800499</td>\n",
       "      <td>0.791461</td>\n",
       "      <td>0.247676</td>\n",
       "      <td>-1.514654</td>\n",
       "      <td>...</td>\n",
       "      <td>0.247998</td>\n",
       "      <td>0.771679</td>\n",
       "      <td>0.909412</td>\n",
       "      <td>-0.689281</td>\n",
       "      <td>-0.327642</td>\n",
       "      <td>-0.139097</td>\n",
       "      <td>-0.055353</td>\n",
       "      <td>-0.059752</td>\n",
       "      <td>1.160686</td>\n",
       "      <td>0</td>\n",
       "    </tr>\n",
       "    <tr>\n",
       "      <th>3</th>\n",
       "      <td>-1.996562</td>\n",
       "      <td>-0.966272</td>\n",
       "      <td>-0.185226</td>\n",
       "      <td>1.792993</td>\n",
       "      <td>-0.863291</td>\n",
       "      <td>-0.010309</td>\n",
       "      <td>1.247203</td>\n",
       "      <td>0.237609</td>\n",
       "      <td>0.377436</td>\n",
       "      <td>-1.387024</td>\n",
       "      <td>...</td>\n",
       "      <td>-0.108300</td>\n",
       "      <td>0.005274</td>\n",
       "      <td>-0.190321</td>\n",
       "      <td>-1.175575</td>\n",
       "      <td>0.647376</td>\n",
       "      <td>-0.221929</td>\n",
       "      <td>0.062723</td>\n",
       "      <td>0.061458</td>\n",
       "      <td>0.140534</td>\n",
       "      <td>0</td>\n",
       "    </tr>\n",
       "    <tr>\n",
       "      <th>4</th>\n",
       "      <td>-1.996541</td>\n",
       "      <td>-1.158233</td>\n",
       "      <td>0.877737</td>\n",
       "      <td>1.548718</td>\n",
       "      <td>0.403034</td>\n",
       "      <td>-0.407193</td>\n",
       "      <td>0.095921</td>\n",
       "      <td>0.592941</td>\n",
       "      <td>-0.270533</td>\n",
       "      <td>0.817739</td>\n",
       "      <td>...</td>\n",
       "      <td>-0.009431</td>\n",
       "      <td>0.798278</td>\n",
       "      <td>-0.137458</td>\n",
       "      <td>0.141267</td>\n",
       "      <td>-0.206010</td>\n",
       "      <td>0.502292</td>\n",
       "      <td>0.219422</td>\n",
       "      <td>0.215153</td>\n",
       "      <td>-0.073403</td>\n",
       "      <td>0</td>\n",
       "    </tr>\n",
       "  </tbody>\n",
       "</table>\n",
       "<p>5 rows × 31 columns</p>\n",
       "</div>"
      ],
      "text/plain": [
       "       Time        V1        V2        V3        V4        V5        V6  \\\n",
       "0 -1.996583 -1.359807 -0.072781  2.536347  1.378155 -0.338321  0.462388   \n",
       "1 -1.996583  1.191857  0.266151  0.166480  0.448154  0.060018 -0.082361   \n",
       "2 -1.996562 -1.358354 -1.340163  1.773209  0.379780 -0.503198  1.800499   \n",
       "3 -1.996562 -0.966272 -0.185226  1.792993 -0.863291 -0.010309  1.247203   \n",
       "4 -1.996541 -1.158233  0.877737  1.548718  0.403034 -0.407193  0.095921   \n",
       "\n",
       "         V7        V8        V9  ...       V21       V22       V23       V24  \\\n",
       "0  0.239599  0.098698  0.363787  ... -0.018307  0.277838 -0.110474  0.066928   \n",
       "1 -0.078803  0.085102 -0.255425  ... -0.225775 -0.638672  0.101288 -0.339846   \n",
       "2  0.791461  0.247676 -1.514654  ...  0.247998  0.771679  0.909412 -0.689281   \n",
       "3  0.237609  0.377436 -1.387024  ... -0.108300  0.005274 -0.190321 -1.175575   \n",
       "4  0.592941 -0.270533  0.817739  ... -0.009431  0.798278 -0.137458  0.141267   \n",
       "\n",
       "        V25       V26       V27       V28    Amount  Class  \n",
       "0  0.128539 -0.189115  0.133558 -0.021053  0.244964      0  \n",
       "1  0.167170  0.125895 -0.008983  0.014724 -0.342475      0  \n",
       "2 -0.327642 -0.139097 -0.055353 -0.059752  1.160686      0  \n",
       "3  0.647376 -0.221929  0.062723  0.061458  0.140534      0  \n",
       "4 -0.206010  0.502292  0.219422  0.215153 -0.073403      0  \n",
       "\n",
       "[5 rows x 31 columns]"
      ]
     },
     "execution_count": 93,
     "metadata": {},
     "output_type": "execute_result"
    }
   ],
   "source": [
    "df_standard = df.copy()\n",
    "\n",
    "sc = StandardScaler()\n",
    "\n",
    "df_standard['Time'] = sc.fit_transform(df_standard['Time'].values.reshape(-1,1))\n",
    "df_standard['Amount'] = sc.fit_transform(df_standard['Amount'].values.reshape(-1,1))\n",
    "\n",
    "df_standard.head(5)"
   ]
  },
  {
   "cell_type": "markdown",
   "id": "6c6caf47",
   "metadata": {},
   "source": [
    "Como 'Class' é desbalanceada na divisão do treino e teste vamos utilizar o parametro stratify como True para que tenhamos uma proporção de exemplos de cada classe (Fraude e Não Fraude)."
   ]
  },
  {
   "cell_type": "code",
   "execution_count": 110,
   "id": "810fee4c",
   "metadata": {},
   "outputs": [],
   "source": [
    "# separando dados de treino e o teste\n",
    "\n",
    "X = df_standard.drop('Class', axis = 1)\n",
    "y = df_standard['Class']\n",
    "\n",
    "X_train, X_test, y_train, y_test = train_test_split(X, y, stratify=y, shuffle=True, random_state = 34)"
   ]
  },
  {
   "cell_type": "code",
   "execution_count": 109,
   "id": "ec0e6f9c",
   "metadata": {},
   "outputs": [
    {
     "data": {
      "text/plain": [
       "\"X = df.drop('Class', axis = 1)\\ny = df['Class']\\n\\nX_train, X_test, y_train, y_test = train_test_split(X, y, stratify=y, shuffle=True, random_state = 30)\""
      ]
     },
     "execution_count": 109,
     "metadata": {},
     "output_type": "execute_result"
    }
   ],
   "source": [
    "\"\"\"X = df.drop('Class', axis = 1)\n",
    "y = df['Class']\n",
    "\n",
    "X_train, X_test, y_train, y_test = train_test_split(X, y, stratify=y, shuffle=True, random_state = 30)\"\"\""
   ]
  },
  {
   "cell_type": "code",
   "execution_count": null,
   "id": "7af00804",
   "metadata": {},
   "outputs": [],
   "source": []
  },
  {
   "cell_type": "markdown",
   "id": "e620ee1b",
   "metadata": {
    "heading_collapsed": true
   },
   "source": [
    "# Balancamento dos dados"
   ]
  },
  {
   "cell_type": "markdown",
   "id": "30fadff5",
   "metadata": {
    "hidden": true
   },
   "source": [
    "Os dados apresentam desbalanceamento, há muito mais amostras da classe 0 ( transação normal) o que favorece o modelo generalizar sobre esta classe majoritátia, e tendo pouca informação para encontrar o padrão que diferencia as classes, assim, vamos colocar técnicas de rebalancamento para que o modelo tenha dados suficientes para aprender sobre ambas as classes.   \n",
    "Estudaremos o comportamento do modelo preditivo sem e com o rebalanceamento verificando sua performance e a efetiva contribuição da técnica para a aprendizagem.  \n",
    "Vamos verificar as duas formas de balanceamento do dados, undersampling e oversampling e em cada uma utilizar dois algoritmos e analisar seus desempenhos nos modelos. "
   ]
  },
  {
   "cell_type": "markdown",
   "id": "730e84ca",
   "metadata": {
    "hidden": true
   },
   "source": [
    "### Undersampling \n",
    "* Random Undersampling - remove aleatoriamente observações da classe majoritária\n",
    "* Near Miss - seleciona da classe majoritátia as observações de menor distância média dos K-vizinhos mais próximos."
   ]
  },
  {
   "cell_type": "code",
   "execution_count": 77,
   "id": "775e56a7",
   "metadata": {
    "hidden": true
   },
   "outputs": [
    {
     "data": {
      "text/plain": [
       "((738, 30), (738,))"
      ]
     },
     "execution_count": 77,
     "metadata": {},
     "output_type": "execute_result"
    }
   ],
   "source": [
    "# utilizando random undersampling\n",
    "rus = RandomUnderSampler(random_state = 30)\n",
    "X_rus, y_rus = rus.fit_resample(X_train, y_train)\n",
    "\n",
    "X_rus.shape, y_rus.shape"
   ]
  },
  {
   "cell_type": "code",
   "execution_count": 78,
   "id": "db1efd72",
   "metadata": {
    "hidden": true
   },
   "outputs": [
    {
     "data": {
      "text/plain": [
       "0    369\n",
       "1    369\n",
       "Name: Class, dtype: int64"
      ]
     },
     "execution_count": 78,
     "metadata": {},
     "output_type": "execute_result"
    }
   ],
   "source": [
    "y_rus.value_counts()"
   ]
  },
  {
   "cell_type": "code",
   "execution_count": 79,
   "id": "89be3d51",
   "metadata": {
    "hidden": true
   },
   "outputs": [
    {
     "data": {
      "text/plain": [
       "((738, 30), (738,))"
      ]
     },
     "execution_count": 79,
     "metadata": {},
     "output_type": "execute_result"
    }
   ],
   "source": [
    "# utilizando near miss\n",
    "nm = NearMiss(version=1)\n",
    "X_nm, y_nm = nm.fit_resample(X_train, y_train)\n",
    "\n",
    "X_nm.shape, y_nm.shape"
   ]
  },
  {
   "cell_type": "code",
   "execution_count": null,
   "id": "f500b176",
   "metadata": {
    "hidden": true
   },
   "outputs": [],
   "source": [
    "y_nm.value_counts()"
   ]
  },
  {
   "cell_type": "markdown",
   "id": "22a4409d",
   "metadata": {
    "hidden": true
   },
   "source": [
    "### Oversampling \n",
    "consiste em criar sinteticamente novas observações da classe minoritária até qu\n",
    "Método que cria novas observações aumentando o sinteticamente da classe minoritária até que haja equilíbrio entre as classes:    \n",
    "* Random Oversampling - o contrário do random under sampling, cria observações copiando dados da classe minoritária\n",
    "* SMOTE - consiste em criar novos dados da classe minoritária com base nos já existentes, cria amostras intermediárias entre dados reais. Também se utiliza do algoritmo KNN."
   ]
  },
  {
   "cell_type": "code",
   "execution_count": 80,
   "id": "0eb2e9f9",
   "metadata": {
    "hidden": true
   },
   "outputs": [
    {
     "data": {
      "text/plain": [
       "((426472, 30), (426472,))"
      ]
     },
     "execution_count": 80,
     "metadata": {},
     "output_type": "execute_result"
    }
   ],
   "source": [
    "# utilizando random oversampling\n",
    "ros = RandomOverSampler(random_state = 30)\n",
    "X_ros, y_ros = ros.fit_resample(X_train, y_train)\n",
    "\n",
    "X_ros.shape, y_ros.shape"
   ]
  },
  {
   "cell_type": "code",
   "execution_count": 81,
   "id": "aa4b5d15",
   "metadata": {
    "hidden": true
   },
   "outputs": [
    {
     "data": {
      "text/plain": [
       "0    213236\n",
       "1    213236\n",
       "Name: Class, dtype: int64"
      ]
     },
     "execution_count": 81,
     "metadata": {},
     "output_type": "execute_result"
    }
   ],
   "source": [
    "y_ros.value_counts()"
   ]
  },
  {
   "cell_type": "code",
   "execution_count": 82,
   "id": "b2f7c1da",
   "metadata": {
    "hidden": true
   },
   "outputs": [
    {
     "data": {
      "text/plain": [
       "((426472, 30), (426472,))"
      ]
     },
     "execution_count": 82,
     "metadata": {},
     "output_type": "execute_result"
    }
   ],
   "source": [
    "# utilizando SMOTE\n",
    "smote = SMOTE(random_state = 30)\n",
    "X_smote, y_smote = smote.fit_resample(X_train, y_train)\n",
    "\n",
    "X_smote.shape, y_smote.shape"
   ]
  },
  {
   "cell_type": "code",
   "execution_count": 83,
   "id": "1dbbbb5b",
   "metadata": {
    "hidden": true
   },
   "outputs": [
    {
     "data": {
      "text/plain": [
       "0    213236\n",
       "1    213236\n",
       "Name: Class, dtype: int64"
      ]
     },
     "execution_count": 83,
     "metadata": {},
     "output_type": "execute_result"
    }
   ],
   "source": [
    "y_smote.value_counts()"
   ]
  },
  {
   "cell_type": "markdown",
   "id": "2090cf75",
   "metadata": {},
   "source": [
    "# Modelos preditivos"
   ]
  },
  {
   "cell_type": "markdown",
   "id": "ea652055",
   "metadata": {},
   "source": [
    "### Regressão Logística"
   ]
  },
  {
   "cell_type": "markdown",
   "id": "6aa40775",
   "metadata": {},
   "source": [
    "* **Modelo com base de dados desbalanceadas**"
   ]
  },
  {
   "cell_type": "code",
   "execution_count": 111,
   "id": "c1cc373e",
   "metadata": {},
   "outputs": [],
   "source": [
    "model_log = LogisticRegression(random_state = 30)\n",
    "model_log.fit(X_train, y_train)\n",
    "# Fazer previsões em cima de novos dados\n",
    "y_pred_log = model_log.predict(X_test)\n"
   ]
  },
  {
   "cell_type": "markdown",
   "id": "897a81e3",
   "metadata": {},
   "source": [
    "O próprio enunciado do kaggle recomenda utilizar a métrica AUPRC com os dados desbalanceados, esta é uma boa métrica para identificar os acertos na classe de positivos (valor 1 da classe, no caso a fraude)"
   ]
  },
  {
   "cell_type": "code",
   "execution_count": 112,
   "id": "7beeadf0",
   "metadata": {},
   "outputs": [],
   "source": [
    "# função para calcular AUPRC\n",
    "def pr_auc(y_true, y_prob):\n",
    "    precisao, recall, thresholds = precision_recall_curve(y_true, y_prob)\n",
    "    return auc(recall, precisao)"
   ]
  },
  {
   "cell_type": "code",
   "execution_count": 113,
   "id": "31d84050",
   "metadata": {},
   "outputs": [
    {
     "data": {
      "text/plain": [
       "array([1.32660991e-03, 6.00465932e-05, 3.85113542e-04, ...,\n",
       "       8.42171031e-05, 1.16682212e-03, 1.20857551e-04])"
      ]
     },
     "execution_count": 113,
     "metadata": {},
     "output_type": "execute_result"
    }
   ],
   "source": [
    "# atribuindo a probabilidade de cada observação ser positivo\n",
    "y_prob = model_log.predict_proba(X_test)[:, 1]\n",
    "y_prob"
   ]
  },
  {
   "cell_type": "code",
   "execution_count": 114,
   "id": "149eeb73",
   "metadata": {},
   "outputs": [
    {
     "data": {
      "text/plain": [
       "0.7269594536855527"
      ]
     },
     "execution_count": 114,
     "metadata": {},
     "output_type": "execute_result"
    }
   ],
   "source": [
    "# calculo do AUPRC\n",
    "pr_auc(y_test,y_prob)"
   ]
  },
  {
   "cell_type": "code",
   "execution_count": 115,
   "id": "8c601868",
   "metadata": {},
   "outputs": [],
   "source": [
    "def matriz_conf(y, y_pred):\n",
    "    from mlxtend.plotting import plot_confusion_matrix\n",
    "    from sklearn.metrics import confusion_matrix\n",
    "    from matplotlib import pyplot as plt\n",
    "    cm = confusion_matrix(y, y_pred)\n",
    "\n",
    "    plot_confusion_matrix(conf_mat=cm)\n",
    "    plt.show()"
   ]
  },
  {
   "cell_type": "code",
   "execution_count": 116,
   "id": "14763d6e",
   "metadata": {},
   "outputs": [
    {
     "data": {
      "image/png": "[encoded data removed]",
      "text/plain": [
       "<Figure size 640x480 with 1 Axes>"
      ]
     },
     "metadata": {},
     "output_type": "display_data"
    }
   ],
   "source": [
    "matriz_conf(y_test, y_pred_log)"
   ]
  },
  {
   "cell_type": "markdown",
   "id": "e8dcd930",
   "metadata": {},
   "source": [
    "O modelo prevê bem as transações comuns, mas nas fraudes acontecem muitos falsos negativos (classificado como normal mas é fraude). A métrica de 72 não pé boa. Vamos verificar com os dados balanceados"
   ]
  },
  {
   "cell_type": "code",
   "execution_count": null,
   "id": "864fadd5",
   "metadata": {},
   "outputs": [],
   "source": []
  },
  {
   "cell_type": "markdown",
   "id": "a841b0ad",
   "metadata": {},
   "source": [
    "* **Modelo com base de dados aplicado o random undersampling**\n",
    "\n",
    "Para os dados balanceados vamos utilizar a área sobre a curva (AUC) sobre a métrica ROC que objetiva verificar o comportamento do modelo com a proporção dos acertos da classe positivo em relação ao total de positivos pelos erros da classe positivo em relação ao total de negativos. Maiores explicações neste artigo que desenvolvi no Medium: https://medium.com/@paulinhomagno/a-curva-roc-k-17bdbcb1f8f4.\n",
    "Nesta métrica o objetivo é ter um modelo próximo do valor 1, e levaremos em consideraçãor a matriz de confusão em busca de altos acertos dos positivos (fraudes) e poucos erros no falsos positivos."
   ]
  },
  {
   "cell_type": "code",
   "execution_count": 117,
   "id": "39518b62",
   "metadata": {},
   "outputs": [],
   "source": [
    "model_log_rus = LogisticRegression(random_state = 30)\n",
    "\n",
    "model_log_rus.fit(X_rus, y_rus)\n",
    "\n",
    "y_pred_rus = model_log_rus.predict(X_test)\n"
   ]
  },
  {
   "cell_type": "code",
   "execution_count": 118,
   "id": "ab545c81",
   "metadata": {},
   "outputs": [],
   "source": [
    "y_proba_rus = model_log_rus.predict_proba(X_test)[:,1]"
   ]
  },
  {
   "cell_type": "code",
   "execution_count": 119,
   "id": "9d70b364",
   "metadata": {},
   "outputs": [
    {
     "data": {
      "text/plain": [
       "0.9804254215251391"
      ]
     },
     "execution_count": 119,
     "metadata": {},
     "output_type": "execute_result"
    }
   ],
   "source": [
    "roc_auc_score(y_test, y_proba_rus)\n"
   ]
  },
  {
   "cell_type": "code",
   "execution_count": 120,
   "id": "85c7669e",
   "metadata": {},
   "outputs": [
    {
     "data": {
      "image/png": "[encoded data removed]",
      "text/plain": [
       "<Figure size 640x480 with 1 Axes>"
      ]
     },
     "metadata": {},
     "output_type": "display_data"
    }
   ],
   "source": [
    "matriz_conf(y_test, y_pred_rus)"
   ]
  },
  {
   "cell_type": "markdown",
   "id": "ae792ba0",
   "metadata": {},
   "source": [
    "O modelo alcança excelente métrica, acerta muitos positivos mas, ao mesmo tempo, classifica muitos positivos erroneamente. Talvez, com ajustes nos hiperparâmetros se consiga uma melhora mas, vamos verificar o modelo com a outra tecnica de undersampling"
   ]
  },
  {
   "cell_type": "markdown",
   "id": "b8829f33",
   "metadata": {},
   "source": [
    "* **Modelo com base de dados aplicado o NearMiss**"
   ]
  },
  {
   "cell_type": "code",
   "execution_count": 121,
   "id": "87264157",
   "metadata": {},
   "outputs": [],
   "source": [
    "model_log_nm = LogisticRegression(random_state = 30)\n",
    "\n",
    "model_log_nm.fit(X_nm, y_nm)\n",
    "\n",
    "y_pred_nm = model_log_nm.predict(X_test)"
   ]
  },
  {
   "cell_type": "code",
   "execution_count": 122,
   "id": "c891eef5",
   "metadata": {},
   "outputs": [],
   "source": [
    "y_proba_nm = model_log_nm.predict_proba(X_test)[:,1]"
   ]
  },
  {
   "cell_type": "code",
   "execution_count": 123,
   "id": "9ce5c87a",
   "metadata": {},
   "outputs": [
    {
     "name": "stdout",
     "output_type": "stream",
     "text": [
      "0.9213594583926256\n"
     ]
    },
    {
     "data": {
      "image/png": "[encoded data removed]",
      "text/plain": [
       "<Figure size 640x480 with 1 Axes>"
      ]
     },
     "metadata": {},
     "output_type": "display_data"
    }
   ],
   "source": [
    "print(roc_auc_score(y_test, y_proba_nm))\n",
    "matriz_conf(y_test, y_pred_nm)"
   ]
  },
  {
   "cell_type": "markdown",
   "id": "e8afa03b",
   "metadata": {},
   "source": [
    "O modelo teve acertos nas fraudes semelhante ao random undersampling mas, errou mais da metade classificando como fraude transações que não são. Provalvelmente, a técnica utilizada de selecionar os vizinhos mais próximos da classe majoritária tenha resultado em perda de informação na classificação desta."
   ]
  },
  {
   "cell_type": "code",
   "execution_count": null,
   "id": "b377e066",
   "metadata": {},
   "outputs": [],
   "source": []
  },
  {
   "cell_type": "markdown",
   "id": "620cc3ab",
   "metadata": {},
   "source": [
    "* **Modelo com base de dados aplicado o random oversampling**"
   ]
  },
  {
   "cell_type": "code",
   "execution_count": 63,
   "id": "0684e802",
   "metadata": {},
   "outputs": [],
   "source": [
    "model_log_ros = LogisticRegression(random_state = 30)\n",
    "\n",
    "model_log_ros.fit(X_ros, y_ros)\n",
    "\n",
    "y_pred_ros = model_log_ros.predict(X_test)\n",
    "\n",
    "y_proba_ros = model_log_ros.predict_proba(X_test)[:,1]"
   ]
  },
  {
   "cell_type": "code",
   "execution_count": 64,
   "id": "fe28a83f",
   "metadata": {},
   "outputs": [
    {
     "name": "stdout",
     "output_type": "stream",
     "text": [
      "0.9917872212951648\n"
     ]
    },
    {
     "data": {
      "image/png": "[encoded data removed]",
      "text/plain": [
       "<Figure size 640x480 with 1 Axes>"
      ]
     },
     "metadata": {},
     "output_type": "display_data"
    }
   ],
   "source": [
    "print(roc_auc_score(y_test, y_proba_ros))\n",
    "matriz_conf(y_test, y_pred_ros)"
   ]
  },
  {
   "cell_type": "markdown",
   "id": "8ab0a23d",
   "metadata": {},
   "source": [
    "Os modelos de rebalanceamento aleatório se sairam bem, este acerta bem as fraudes e reduziu os falsos negativos, é a melhor métrica, com 97,9."
   ]
  },
  {
   "cell_type": "code",
   "execution_count": null,
   "id": "dacce888",
   "metadata": {},
   "outputs": [],
   "source": []
  },
  {
   "cell_type": "markdown",
   "id": "12ff434e",
   "metadata": {},
   "source": [
    "* **Modelo com base de dados aplicado o SMOTE**"
   ]
  },
  {
   "cell_type": "code",
   "execution_count": 65,
   "id": "3d7f9300",
   "metadata": {},
   "outputs": [],
   "source": [
    "model_log_smote = LogisticRegression()\n",
    "\n",
    "model_log_smote.fit(X_smote, y_smote)\n",
    "\n",
    "y_pred_smote = model_log_smote.predict(X_test)\n",
    "\n",
    "y_proba_smote = model_log_smote.predict_proba(X_test)[:,1]"
   ]
  },
  {
   "cell_type": "code",
   "execution_count": 66,
   "id": "bef27845",
   "metadata": {},
   "outputs": [
    {
     "name": "stdout",
     "output_type": "stream",
     "text": [
      "0.9921589592800499\n"
     ]
    },
    {
     "data": {
      "image/png": "[encoded data removed]",
      "text/plain": [
       "<Figure size 640x480 with 1 Axes>"
      ]
     },
     "metadata": {},
     "output_type": "display_data"
    }
   ],
   "source": [
    "print(roc_auc_score(y_test, y_proba_smote))\n",
    "matriz_conf(y_test, y_pred_smote)"
   ]
  },
  {
   "cell_type": "markdown",
   "id": "308359ef",
   "metadata": {},
   "source": [
    "Este teve um acerto semelhante ao random oversampling com métrica semelhante, mas teve um pequeno aumento nos falsos negativos"
   ]
  },
  {
   "cell_type": "markdown",
   "id": "05eb26b3",
   "metadata": {},
   "source": [
    "É utilizado a métrica e a matriz da confusão para se ter a noção dos acertos das classes e se focando nas fraudes (positivos). Mas, o melhor ou pior modelo pode ser subjetivo, pode-se ter diferentes visões e foco para este tipo de problema"
   ]
  },
  {
   "cell_type": "code",
   "execution_count": null,
   "id": "e2673704",
   "metadata": {},
   "outputs": [],
   "source": []
  },
  {
   "cell_type": "markdown",
   "id": "5cd44926",
   "metadata": {},
   "source": [
    "### Modelos com árvores de decisão"
   ]
  },
  {
   "cell_type": "markdown",
   "id": "61e915bf",
   "metadata": {},
   "source": [
    "Vamos analisar os mesmos dados anteriores mas com algoritmos baseados em arvores de decisão."
   ]
  },
  {
   "cell_type": "markdown",
   "id": "7e78eccb",
   "metadata": {},
   "source": [
    "#### Random Forest"
   ]
  },
  {
   "cell_type": "markdown",
   "id": "e3383c45",
   "metadata": {},
   "source": [
    "* **Modelo com base de dados desbalanceada**"
   ]
  },
  {
   "cell_type": "code",
   "execution_count": 67,
   "id": "d1b0ebba",
   "metadata": {},
   "outputs": [],
   "source": [
    "model_rfc = RandomForestClassifier(max_depth = 5, n_estimators = 100, random_state = 30)\n",
    "model_rfc.fit(X_train, y_train)\n",
    "# Fazer previsões em cima de novos dados\n",
    "y_pred_rfc = model_rfc.predict(X_test)\n",
    "y_proba_rfc = model_rfc.predict_proba(X_test)[:,1]"
   ]
  },
  {
   "cell_type": "code",
   "execution_count": 68,
   "id": "7ef151fc",
   "metadata": {},
   "outputs": [
    {
     "name": "stdout",
     "output_type": "stream",
     "text": [
      "0.8368627661467324\n"
     ]
    },
    {
     "data": {
      "image/png": "[encoded data removed]",
      "text/plain": [
       "<Figure size 640x480 with 1 Axes>"
      ]
     },
     "metadata": {},
     "output_type": "display_data"
    }
   ],
   "source": [
    "print(pr_auc(y_test, y_proba_rfc))\n",
    "matriz_conf(y_test, y_pred_rfc)"
   ]
  },
  {
   "cell_type": "markdown",
   "id": "555364a9",
   "metadata": {},
   "source": [
    "Métrica razoável com muitos falsos negativos."
   ]
  },
  {
   "cell_type": "markdown",
   "id": "f930cd5b",
   "metadata": {},
   "source": [
    "* **Modelo com base de dados o random undersampling**"
   ]
  },
  {
   "cell_type": "code",
   "execution_count": 69,
   "id": "a686d3cd",
   "metadata": {},
   "outputs": [],
   "source": [
    "model_rfc_rus = RandomForestClassifier(max_depth = 5, n_estimators = 100, random_state = 30)\n",
    "\n",
    "model_rfc_rus.fit(X_rus, y_rus)\n",
    "\n",
    "y_pred_rus = model_rfc_rus.predict(X_test)\n",
    "\n",
    "y_proba_rus = model_rfc_rus.predict_proba(X_test)[:,1]"
   ]
  },
  {
   "cell_type": "code",
   "execution_count": 70,
   "id": "7a08e4fb",
   "metadata": {},
   "outputs": [
    {
     "name": "stdout",
     "output_type": "stream",
     "text": [
      "0.9902433076582485\n"
     ]
    },
    {
     "data": {
      "image/png": "[encoded data removed]",
      "text/plain": [
       "<Figure size 640x480 with 1 Axes>"
      ]
     },
     "metadata": {},
     "output_type": "display_data"
    }
   ],
   "source": [
    "print(roc_auc_score(y_test, y_proba_rus))\n",
    "matriz_conf(y_test, y_pred_rus)"
   ]
  },
  {
   "cell_type": "markdown",
   "id": "40ec0472",
   "metadata": {},
   "source": [
    "Os dados com rebalanceamento aleatório estão contribuindo bem para o desempenho dos modelos, a métrica é excelente com bons números de falso negativos e falsos positivos, por esta análise este é o melhor modelo até então"
   ]
  },
  {
   "cell_type": "markdown",
   "id": "a2ddf2cb",
   "metadata": {},
   "source": [
    "* **Modelo com base de dados o Near Miss**"
   ]
  },
  {
   "cell_type": "code",
   "execution_count": 71,
   "id": "6f9b91f8",
   "metadata": {},
   "outputs": [],
   "source": [
    "model_rfc_nm = RandomForestClassifier(max_depth = 3, n_estimators = 100, random_state = 30)\n",
    "\n",
    "model_rfc_nm.fit(X_nm, y_nm)\n",
    "\n",
    "y_pred_nm = model_rfc_nm.predict(X_test)\n",
    "\n",
    "y_proba_nm = model_rfc_nm.predict_proba(X_test)[:,1]"
   ]
  },
  {
   "cell_type": "code",
   "execution_count": 72,
   "id": "14ac18c2",
   "metadata": {},
   "outputs": [
    {
     "name": "stdout",
     "output_type": "stream",
     "text": [
      "0.9421955440168086\n"
     ]
    },
    {
     "data": {
      "image/png": "[encoded data removed]",
      "text/plain": [
       "<Figure size 640x480 with 1 Axes>"
      ]
     },
     "metadata": {},
     "output_type": "display_data"
    }
   ],
   "source": [
    "print(roc_auc_score(y_test, y_proba_nm))\n",
    "matriz_conf(y_test, y_pred_nm)"
   ]
  },
  {
   "cell_type": "markdown",
   "id": "37ff5610",
   "metadata": {},
   "source": [
    "O Near Miss vem se mostrando a pior técnica de balanceamento para estes dados, aqui influencia na performance para detectar as fraudes mas comprometendo todo resto, esta técnica fez com que o modelo perdesse informação para poder detectar os negativos (não fraude)."
   ]
  },
  {
   "cell_type": "markdown",
   "id": "9eb8412e",
   "metadata": {},
   "source": [
    "* **Modelo com base de dados o random oversampling**"
   ]
  },
  {
   "cell_type": "code",
   "execution_count": 73,
   "id": "e00f3e9d",
   "metadata": {},
   "outputs": [],
   "source": [
    "model_rfc_ros = RandomForestClassifier(max_depth = 5, n_estimators = 100, random_state = 30)\n",
    "\n",
    "model_rfc_ros.fit(X_ros, y_ros)\n",
    "\n",
    "y_pred_ros = model_rfc_ros.predict(X_test)\n",
    "\n",
    "y_proba_ros = model_rfc_ros.predict_proba(X_test)[:,1]"
   ]
  },
  {
   "cell_type": "code",
   "execution_count": 74,
   "id": "92b6250b",
   "metadata": {},
   "outputs": [
    {
     "name": "stdout",
     "output_type": "stream",
     "text": [
      "0.9924868893731776\n"
     ]
    },
    {
     "data": {
      "image/png": "[encoded data removed]",
      "text/plain": [
       "<Figure size 640x480 with 1 Axes>"
      ]
     },
     "metadata": {},
     "output_type": "display_data"
    }
   ],
   "source": [
    "print(roc_auc_score(y_test, y_proba_ros))\n",
    "matriz_conf(y_test, y_pred_ros)"
   ]
  },
  {
   "cell_type": "markdown",
   "id": "5dcedcbf",
   "metadata": {},
   "source": [
    "Performance muito boa, métrica alta, e o modelo conseguiu detectar bem as fraudes sem comprometer muito os falsos positivos, sendo o melhor nisto até aqui."
   ]
  },
  {
   "cell_type": "markdown",
   "id": "185aeac8",
   "metadata": {},
   "source": [
    "* **Modelo com base de dados o SMOTE**"
   ]
  },
  {
   "cell_type": "code",
   "execution_count": 75,
   "id": "338e2c39",
   "metadata": {},
   "outputs": [],
   "source": [
    "model_rfc_smote = RandomForestClassifier(max_depth = 5, n_estimators = 100, random_state = 30)\n",
    "\n",
    "model_rfc_smote.fit(X_ros, y_ros)\n",
    "\n",
    "y_pred_smote = model_rfc_smote.predict(X_test)\n",
    "\n",
    "y_proba_smote = model_rfc_smote.predict_proba(X_test)[:,1]"
   ]
  },
  {
   "cell_type": "code",
   "execution_count": 125,
   "id": "9025e147",
   "metadata": {},
   "outputs": [
    {
     "name": "stdout",
     "output_type": "stream",
     "text": [
      "0.9765386435360998\n"
     ]
    },
    {
     "data": {
      "image/png": "[encoded data removed]",
      "text/plain": [
       "<Figure size 640x480 with 1 Axes>"
      ]
     },
     "metadata": {},
     "output_type": "display_data"
    }
   ],
   "source": [
    "print(roc_auc_score(y_test, y_proba_smote))\n",
    "matriz_conf(y_test, y_pred_smote)"
   ]
  },
  {
   "cell_type": "markdown",
   "id": "e157be3e",
   "metadata": {},
   "source": [
    "Desempenho semelhante ao random oversampling. Estes dois tiveram performances semelhantes nos dois tipos de modelos de machine learning apresentados até aqui, mas, o random tem a premissa mais simples."
   ]
  },
  {
   "cell_type": "markdown",
   "id": "59aa53ad",
   "metadata": {},
   "source": [
    "#### AdaBoostClassifier"
   ]
  },
  {
   "cell_type": "markdown",
   "id": "37fe2aad",
   "metadata": {},
   "source": [
    "* **Modelo com base de dados desbalanceada**"
   ]
  },
  {
   "cell_type": "code",
   "execution_count": 105,
   "id": "1e16b7d6",
   "metadata": {},
   "outputs": [],
   "source": [
    "model = DecisionTreeClassifier(max_depth = 5, min_samples_split = 10, max_features = 'log2', random_state = 30)\n",
    "\n",
    "model_adc = AdaBoostClassifier(base_estimator = model) \n",
    "\n",
    "model_adc.fit(X_train, y_train)\n",
    "\n",
    "y_pred_adc = model_adc.predict(X_test)\n",
    "y_proba_adc = model_adc.predict_proba(X_test)[:,1]"
   ]
  },
  {
   "cell_type": "code",
   "execution_count": 106,
   "id": "a6929726",
   "metadata": {},
   "outputs": [
    {
     "name": "stdout",
     "output_type": "stream",
     "text": [
      "0.7973984036116325\n"
     ]
    },
    {
     "data": {
      "image/png": "[encoded data removed]",
      "text/plain": [
       "<Figure size 640x480 with 1 Axes>"
      ]
     },
     "metadata": {},
     "output_type": "display_data"
    }
   ],
   "source": [
    "print(pr_auc(y_test, y_proba_adc))\n",
    "matriz_conf(y_test, y_pred_adc)"
   ]
  },
  {
   "cell_type": "markdown",
   "id": "65db6f61",
   "metadata": {},
   "source": [
    "O modelo se apresentou praticamente igual aos outros desbalanceados: aprende bem os padrões da classe dos negativos, mas é mediano na classificação das fraudes."
   ]
  },
  {
   "cell_type": "markdown",
   "id": "2f07ed61",
   "metadata": {},
   "source": [
    "* **Modelo com base de dados aplicado o random undersampling**"
   ]
  },
  {
   "cell_type": "code",
   "execution_count": 111,
   "id": "15f13b36",
   "metadata": {},
   "outputs": [],
   "source": [
    "model_adc_rus = AdaBoostClassifier(base_estimator = model) \n",
    "\n",
    "model_adc_rus.fit(X_rus, y_rus)\n",
    "\n",
    "y_pred_rus = model_adc_rus.predict(X_test)\n",
    "y_proba_rus = model_adc_rus.predict_proba(X_test)[:,1]"
   ]
  },
  {
   "cell_type": "code",
   "execution_count": 112,
   "id": "6a8de74b",
   "metadata": {},
   "outputs": [
    {
     "name": "stdout",
     "output_type": "stream",
     "text": [
      "0.9738465742400217\n"
     ]
    },
    {
     "data": {
      "image/png": "[encoded data removed]",
      "text/plain": [
       "<Figure size 640x480 with 1 Axes>"
      ]
     },
     "metadata": {},
     "output_type": "display_data"
    }
   ],
   "source": [
    "print(roc_auc_score(y_test, y_proba_rus))\n",
    "matriz_conf(y_test, y_pred_rus)"
   ]
  },
  {
   "cell_type": "markdown",
   "id": "e448511c",
   "metadata": {},
   "source": [
    "Modelo desempenha bem mas, ainda não melhor que o do Random Forest"
   ]
  },
  {
   "cell_type": "markdown",
   "id": "d0c121e0",
   "metadata": {},
   "source": [
    "* **Modelo com base de dados aplicado o NearMiss**"
   ]
  },
  {
   "cell_type": "code",
   "execution_count": 113,
   "id": "2820f88c",
   "metadata": {},
   "outputs": [],
   "source": [
    "model_adc_nm = AdaBoostClassifier(base_estimator = model) \n",
    "\n",
    "model_adc_nm.fit(X_nm, y_nm)\n",
    "\n",
    "y_pred_nm = model_adc_nm.predict(X_test)\n",
    "y_proba_nm = model_adc_nm.predict_proba(X_test)[:,1]"
   ]
  },
  {
   "cell_type": "code",
   "execution_count": 114,
   "id": "4f8dd961",
   "metadata": {},
   "outputs": [
    {
     "name": "stdout",
     "output_type": "stream",
     "text": [
      "0.8853987839249515\n"
     ]
    },
    {
     "data": {
      "image/png": "[encoded data removed]",
      "text/plain": [
       "<Figure size 640x480 with 1 Axes>"
      ]
     },
     "metadata": {},
     "output_type": "display_data"
    }
   ],
   "source": [
    "print(roc_auc_score(y_test, y_proba_nm))\n",
    "matriz_conf(y_test, y_pred_nm)"
   ]
  },
  {
   "cell_type": "markdown",
   "id": "6929c38f",
   "metadata": {},
   "source": [
    "Segue a mesma situação que os outros modelos com Near Miss: prejudica a classe de não fraude para acertar as fraudes"
   ]
  },
  {
   "cell_type": "markdown",
   "id": "b0564ea2",
   "metadata": {},
   "source": [
    "* **Modelo com base de dados aplicado o random oversampling**"
   ]
  },
  {
   "cell_type": "code",
   "execution_count": 115,
   "id": "c76527f6",
   "metadata": {},
   "outputs": [],
   "source": [
    "model_adc_ros = AdaBoostClassifier(base_estimator = model) \n",
    "\n",
    "model_adc_ros.fit(X_ros, y_ros)\n",
    "\n",
    "y_pred_ros = model_adc_ros.predict(X_test)\n",
    "y_proba_ros = model_adc_ros.predict_proba(X_test)[:,1]"
   ]
  },
  {
   "cell_type": "code",
   "execution_count": 116,
   "id": "a69184aa",
   "metadata": {},
   "outputs": [
    {
     "name": "stdout",
     "output_type": "stream",
     "text": [
      "0.9356444912948687\n"
     ]
    },
    {
     "data": {
      "image/png": "[encoded data removed]",
      "text/plain": [
       "<Figure size 640x480 with 1 Axes>"
      ]
     },
     "metadata": {},
     "output_type": "display_data"
    }
   ],
   "source": [
    "print(roc_auc_score(y_test, y_proba_ros))\n",
    "matriz_conf(y_test, y_pred_ros)"
   ]
  },
  {
   "cell_type": "markdown",
   "id": "17b2e78a",
   "metadata": {},
   "source": [
    "Métrica alta mas com falsos negativos também alto"
   ]
  },
  {
   "cell_type": "code",
   "execution_count": null,
   "id": "07afee36",
   "metadata": {},
   "outputs": [],
   "source": []
  },
  {
   "cell_type": "markdown",
   "id": "97bdffa6",
   "metadata": {},
   "source": [
    "* **Modelo com base de dados aplicado o SMOTE**"
   ]
  },
  {
   "cell_type": "code",
   "execution_count": 117,
   "id": "5ec98fee",
   "metadata": {},
   "outputs": [],
   "source": [
    "model_adc_smote = AdaBoostClassifier(base_estimator = model) \n",
    "\n",
    "model_adc_smote.fit(X_smote, y_smote)\n",
    "\n",
    "y_pred_smote = model_adc_smote.predict(X_test)\n",
    "y_proba_smote = model_adc_smote.predict_proba(X_test)[:,1]"
   ]
  },
  {
   "cell_type": "code",
   "execution_count": 118,
   "id": "a961e880",
   "metadata": {},
   "outputs": [
    {
     "name": "stdout",
     "output_type": "stream",
     "text": [
      "0.9484840925309603\n"
     ]
    },
    {
     "data": {
      "image/png": "[encoded data removed]",
      "text/plain": [
       "<Figure size 640x480 with 1 Axes>"
      ]
     },
     "metadata": {},
     "output_type": "display_data"
    }
   ],
   "source": [
    "print(roc_auc_score(y_test, y_proba_smote))\n",
    "matriz_conf(y_test, y_pred_smote)"
   ]
  },
  {
   "cell_type": "markdown",
   "id": "19bcbfea",
   "metadata": {},
   "source": [
    "Desempenho semelhante ao anterior mas com um pouco mais de erros nos falsos positivos"
   ]
  },
  {
   "cell_type": "markdown",
   "id": "03622738",
   "metadata": {},
   "source": [
    "# Conclusão"
   ]
  },
  {
   "cell_type": "markdown",
   "id": "28c4dbaf",
   "metadata": {},
   "source": [
    "### Modelos preditivos"
   ]
  },
  {
   "cell_type": "markdown",
   "id": "d293921f",
   "metadata": {},
   "source": [
    "Os algoritmos de arvore de decisão se mostraram melhor em dados desbalanceados\n",
    "O balanceamento dos dados se mostrou muito importante para alcance de bons desempenhos dos modelos, nesta base de dados as tecnicas aleatórias (tanto undersampling como oversampling) mostraram bom impacto no aprendizado, com o SMOTE os resultados foram próximos ou iguais aos aleatórios; e o Near Miss, na versão 1, não se mostrou uma boa técnica para este problema, impactou negativamente para o aprendizado de fraude e não fraude. \n",
    "Os modelos com Random Forest foram os que desmontraram mais robustez no aprendizado, exceto com os dados aplicado o Near Miss, onde foi o que mais sofreu impacto negativo na aprendizagem. \n",
    "Parece que há uma fronteira nos dados dividindo as fraudes e não fraudes, e o Near Miss apagou esta informação, fazendo com que os modelos não aprendessem o suficiente."
   ]
  },
  {
   "cell_type": "markdown",
   "id": "f92c73ee",
   "metadata": {},
   "source": [
    "### Impactos no negócio"
   ]
  },
  {
   "cell_type": "markdown",
   "id": "8c85f1ca",
   "metadata": {},
   "source": [
    "O modelo com Random Forest com o oversampling aleatório teve melhor eficiência e teria melhor aproveitamento para o negócio.  \n",
    "Este modelo tem uma performance de 99,25% na métrica AUC, e detecta 88,61% das fraudes sem comprometer as transações normais, ou seja, haveria poucos casos em que classificaria como fraude transações não fraudulentas (0,34% de falsos negativos em relação ao total de transações não fraudulentas). Alguns modelos teriam uma acertividade maior de fraudes mas comprometendo as transações normais, assim, impactando negativamente o processo de compra do cliente e até em cancelamentos e churn.    \n",
    "Como um exemplo, vamos considerar as transações dos dados de teste (71202) e um ticket médio de fraude de 1.420,00, se evitaria __352.160,00__ de prejuízo com fraudes, o que na prática seria um aumento do lucro.\n"
   ]
  },
  {
   "cell_type": "code",
   "execution_count": null,
   "id": "ae452b1b",
   "metadata": {},
   "outputs": [],
   "source": []
  }
 ],
 "metadata": {
  "kernelspec": {
   "display_name": "Python 3 (ipykernel)",
   "language": "python",
   "name": "python3"
  },
  "language_info": {
   "codemirror_mode": {
    "name": "ipython",
    "version": 3
   },
   "file_extension": ".py",
   "mimetype": "text/x-python",
   "name": "python",
   "nbconvert_exporter": "python",
   "pygments_lexer": "ipython3",
   "version": "3.9.12"
  },
  "varInspector": {
   "cols": {
    "lenName": 16,
    "lenType": 16,
    "lenVar": 40
   },
   "kernels_config": {
    "python": {
     "delete_cmd_postfix": "",
     "delete_cmd_prefix": "del ",
     "library": "var_list.py",
     "varRefreshCmd": "print(var_dic_list())"
    },
    "r": {
     "delete_cmd_postfix": ") ",
     "delete_cmd_prefix": "rm(",
     "library": "var_list.r",
     "varRefreshCmd": "cat(var_dic_list()) "
    }
   },
   "types_to_exclude": [
    "module",
    "function",
    "builtin_function_or_method",
    "instance",
    "_Feature"
   ],
   "window_display": false
  }
 },
 "nbformat": 4,
 "nbformat_minor": 5
}
